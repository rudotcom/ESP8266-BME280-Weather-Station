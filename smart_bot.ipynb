{
  "nbformat": 4,
  "nbformat_minor": 0,
  "metadata": {
    "colab": {
      "name": "smart_bot.ipynb",
      "provenance": [],
      "collapsed_sections": [
        "2I2b8jXm8HCs",
        "XDFRAA3i79No",
        "F6WZp5-J5gzU",
        "HTv99nwN7zsQ"
      ],
      "authorship_tag": "ABX9TyMQbvyOzG1T0YhQyZ0IXSbc",
      "include_colab_link": true
    },
    "kernelspec": {
      "name": "python3",
      "display_name": "Python 3"
    }
  },
  "cells": [
    {
      "cell_type": "markdown",
      "metadata": {
        "id": "view-in-github",
        "colab_type": "text"
      },
      "source": [
        "<a href=\"https://colab.research.google.com/github/rudotcom/ESP8266-BME280-Weather-Station/blob/master/smart_bot.ipynb\" target=\"_parent\"><img src=\"https://colab.research.google.com/assets/colab-badge.svg\" alt=\"Open In Colab\"/></a>"
      ]
    },
    {
      "cell_type": "markdown",
      "metadata": {
        "id": "2I2b8jXm8HCs"
      },
      "source": [
        "# Импорт библиотек\n",
        "random,\n",
        "ntlk\n"
      ]
    },
    {
      "cell_type": "code",
      "metadata": {
        "id": "XnYgK8GyYUQM"
      },
      "source": [
        "import random\n",
        "import nltk"
      ],
      "execution_count": 2,
      "outputs": []
    },
    {
      "cell_type": "markdown",
      "metadata": {
        "id": "XDFRAA3i79No"
      },
      "source": [
        "# Bot Config"
      ]
    },
    {
      "cell_type": "code",
      "metadata": {
        "id": "i4LXARDDYX5I"
      },
      "source": [
        "BOT_CONFIG = {\n",
        "    'intents': {\n",
        "        'hello': {\n",
        "            'examples': [\n",
        "                'Привет', \n",
        "                'Добрый день', \n",
        "                'Шалом', \n",
        "                'Здравствуйте', \n",
        "                'Чё как?', \n",
        "                'Как дела?', \n",
        "                'Приветствую', \n",
        "                'Хай', \n",
        "                'Чао', \n",
        "                'Ку', \n",
        "                'Салам', \n",
        "                'Алло',\n",
        "            ],\n",
        "            'responses': [\n",
        "                'Привет, человек',\n",
        "                'Доброго времени суток', \n",
        "                'Здравствуйте, рад служить!', \n",
        "                'Рад видеть вас!', \n",
        "                'Доброго здоровья!', \n",
        "                'Обалдеть, кто это?', \n",
        "                'Чем могу помочь?',\n",
        "            ]\n",
        "        },\n",
        "        'bye': {\n",
        "            'examples': [\n",
        "                'Пока', \n",
        "                'Досвидания', \n",
        "                'До свидания',\n",
        "                'До скорого',\n",
        "                'Прощайте', \n",
        "                'Чао', \n",
        "                'Всего хорошего', \n",
        "                'Всего доброго', \n",
        "                'Бывай',\n",
        "                'Давай',\n",
        "            ],\n",
        "            'responses': [\n",
        "                'Счастливо',\n",
        "                'Еще увидимся',\n",
        "                'Если что, я тут. Возвращайтесь',\n",
        "                'Чао',\n",
        "                'Уже уходишь? Буду скучать',\n",
        "                'Всего доброго',\n",
        "                'Удачи',\n",
        "                'На случай, если буду нужен, то я там же, где и был, когда был не нужен',\n",
        "                'Будешь выходить - мусор выкинь',\n",
        "                'Бывай',\n",
        "                'Ага, Давай',\n",
        "                'До свидания',\n",
        "                'Еще увидимся',\n",
        "            ]\n",
        "        }\n",
        "    },\n",
        "    \n",
        "    'failure_phrases': [\n",
        "        'Попробуйте написать по другому',\n",
        "        'Что-то непонятно',\n",
        "        'Я же всего лишь бот. Сформулируйте попроще',\n",
        "        'Прости, чёт не вкурил',\n",
        "        'Что?',\n",
        "        'Я правильно интерпретирую семантику вопроса, но полностью игнорирую его суть',\n",
        "        'Я тебя прекрасно не понял',\n",
        "        'Я понял, что я не понял',\n",
        "        'Что ты несешь?',\n",
        "        'Вас людей не всегда поймешь',\n",
        "        'Сначала я ничего не понял, а потом я тоже ничего не понял',\n",
        "        'А ты точно не бот, а то тебя не поймешь?',\n",
        "    ]\n",
        "}"
      ],
      "execution_count": 3,
      "outputs": []
    },
    {
      "cell_type": "code",
      "metadata": {
        "id": "W5bWlPkR4smE"
      },
      "source": [
        "def filter_text(text):\n",
        "    text = text.lower()\n",
        "    text = [c for c in text if c in 'абвгдеёжзийклмнопрстуфхцчшщъыьэюя- ']\n",
        "    text = ''.join(text)\n",
        "    return text\n",
        "\n",
        "def get_intent(question):\n",
        "    for intent, intent_data in BOT_CONFIG['intents'].items():\n",
        "        for example in intent_data['examples']:\n",
        "            filtered_example = filter_text(example)\n",
        "            dist = nltk.edit_distance(filtered_example, filter_text(question))\n",
        "            if dist / len(filtered_example) < 0.4:\n",
        "                return intent"
      ],
      "execution_count": 4,
      "outputs": []
    },
    {
      "cell_type": "code",
      "metadata": {
        "id": "C8WXGCGq4wHx"
      },
      "source": [
        "def get_answer_by_intent(intent):\n",
        "    if intent in BOT_CONFIG['intents']:\n",
        "        phrases = BOT_CONFIG['intents'][intent]['responses']\n",
        "        return random.choice(phrases)"
      ],
      "execution_count": 5,
      "outputs": []
    },
    {
      "cell_type": "code",
      "metadata": {
        "id": "ZBa6d0QR40Cx"
      },
      "source": [
        "def generate_answer_by_text(question):\n",
        "    return  # TODO 3th day"
      ],
      "execution_count": 6,
      "outputs": []
    },
    {
      "cell_type": "code",
      "metadata": {
        "id": "XQtLWehv42e0"
      },
      "source": [
        "def get_failure_phrase():\n",
        "    phrases = BOT_CONFIG['failure_phrases']\n",
        "    return random.choice(phrases)"
      ],
      "execution_count": 7,
      "outputs": []
    },
    {
      "cell_type": "markdown",
      "metadata": {
        "id": "F6WZp5-J5gzU"
      },
      "source": [
        "# NLU - natural language understanding\n",
        "-Получение ответа\n",
        "-Ищем готовый ответ\n",
        "-Генеруем подходящий по контексту ответ\n",
        "-Используем заглушку"
      ]
    },
    {
      "cell_type": "code",
      "metadata": {
        "id": "QpiMSFsG47R4"
      },
      "source": [
        "def bot(question):\n",
        "    # NLU\n",
        "    intent = get_intent(question)\n",
        "    \n",
        "    # Получение ответа\n",
        "    \n",
        "    # Ищем готовый ответ\n",
        "    if intent:\n",
        "        answer = get_answer_by_intent(intent)\n",
        "        if answer:\n",
        "            return answer\n",
        "    \n",
        "    # Генеруем подходящий по контексту ответ\n",
        "    answer = generate_answer_by_text(question)\n",
        "    if answer:\n",
        "        return answer\n",
        "\n",
        "    # Используем заглушку\n",
        "    answer = get_failure_phrase()\n",
        "    return answer"
      ],
      "execution_count": 8,
      "outputs": []
    },
    {
      "cell_type": "markdown",
      "metadata": {
        "id": "HTv99nwN7zsQ"
      },
      "source": [
        "# Интерфейс\n"
      ]
    },
    {
      "cell_type": "code",
      "metadata": {
        "id": "PrVvaj1o4_Hj",
        "colab": {
          "base_uri": "https://localhost:8080/"
        },
        "outputId": "686a358e-5af5-47ff-f7aa-36ba4825d1d2"
      },
      "source": [
        "question = None\n",
        "\n",
        "while question not in ['exit', 'выход']:\n",
        "    question = input()\n",
        "    answer = bot(question)\n",
        "    print(answer)"
      ],
      "execution_count": null,
      "outputs": [
        {
          "output_type": "stream",
          "text": [
            "qj\n",
            "Я же всего лишь бот. Сформулируйте попроще\n",
            "йо\n",
            "Я же всего лишь бот. Сформулируйте попроще\n",
            "хай\n",
            "Привет, человек\n"
          ],
          "name": "stdout"
        }
      ]
    }
  ]
}